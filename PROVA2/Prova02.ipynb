{
 "cells": [
  {
   "cell_type": "code",
   "execution_count": 493,
   "id": "522cc790-c5df-409e-8aa3-571d4c8b7e51",
   "metadata": {},
   "outputs": [],
   "source": [
    "import math\n",
    "\n",
    "consumo_diario = [ 50, 45, 55, 60, 48, 52, 47, 49, 53, 51, 50, 46, 54, 61, 49, 53, 48, 50, 47, 56, 50, 55, 60, 48, 52, 47, 49, 53, 51 ]"
   ]
  },
  {
   "cell_type": "code",
   "execution_count": 495,
   "id": "2d08791e-0798-48b1-ac09-aef2159b3667",
   "metadata": {},
   "outputs": [],
   "source": [
    "def consumo(lista):\n",
    "    lista = (len(consumo_diario) / 30)"
   ]
  },
  {
   "cell_type": "code",
   "execution_count": 497,
   "id": "5eb6c2d2-d845-4468-b69f-52ab000698e1",
   "metadata": {},
   "outputs": [
    {
     "name": "stdout",
     "output_type": "stream",
     "text": [
      "O consumo diario médio foi: None\n"
     ]
    }
   ],
   "source": [
    "print(f\"O consumo diario médio foi: {consumo(lista)}\")"
   ]
  },
  {
   "cell_type": "code",
   "execution_count": null,
   "id": "78ce1f54-9154-44be-a3c8-63787b96c145",
   "metadata": {},
   "outputs": [],
   "source": [
    "Infelizmente não consegui terminar!"
   ]
  }
 ],
 "metadata": {
  "kernelspec": {
   "display_name": "Python [conda env:base] *",
   "language": "python",
   "name": "conda-base-py"
  },
  "language_info": {
   "codemirror_mode": {
    "name": "ipython",
    "version": 3
   },
   "file_extension": ".py",
   "mimetype": "text/x-python",
   "name": "python",
   "nbconvert_exporter": "python",
   "pygments_lexer": "ipython3",
   "version": "3.12.7"
  }
 },
 "nbformat": 4,
 "nbformat_minor": 5
}
